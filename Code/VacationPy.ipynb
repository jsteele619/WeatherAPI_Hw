{
 "cells": [
  {
   "cell_type": "markdown",
   "metadata": {},
   "source": [
    "# VacationPy\n",
    "----\n",
    "\n",
    "#### Note\n",
    "* Keep an eye on your API usage. Use https://developers.google.com/maps/reporting/gmp-reporting as reference for how to monitor your usage and billing.\n",
    "\n",
    "* Instructions have been included for each segment. You do not have to follow them exactly, but they are included to help you think through the steps."
   ]
  },
  {
   "cell_type": "code",
   "execution_count": 3,
   "metadata": {},
   "outputs": [],
   "source": [
    "# Dependencies and Setup\n",
    "import matplotlib.pyplot as plt\n",
    "import pandas as pd\n",
    "import numpy as np\n",
    "import requests\n",
    "import gmaps\n",
    "import os\n",
    "\n",
    "# Import API key\n",
    "from api_keys import g_key"
   ]
  },
  {
   "cell_type": "markdown",
   "metadata": {},
   "source": [
    "### Store Part I results into DataFrame\n",
    "* Load the csv exported in Part I to a DataFrame"
   ]
  },
  {
   "cell_type": "code",
   "execution_count": 17,
   "metadata": {},
   "outputs": [
    {
     "data": {
      "text/html": [
       "<div>\n",
       "<style scoped>\n",
       "    .dataframe tbody tr th:only-of-type {\n",
       "        vertical-align: middle;\n",
       "    }\n",
       "\n",
       "    .dataframe tbody tr th {\n",
       "        vertical-align: top;\n",
       "    }\n",
       "\n",
       "    .dataframe thead th {\n",
       "        text-align: right;\n",
       "    }\n",
       "</style>\n",
       "<table border=\"1\" class=\"dataframe\">\n",
       "  <thead>\n",
       "    <tr style=\"text-align: right;\">\n",
       "      <th></th>\n",
       "      <th>City</th>\n",
       "      <th>Country</th>\n",
       "      <th>Lat</th>\n",
       "      <th>Long</th>\n",
       "      <th>Max Temp</th>\n",
       "      <th>Humidity</th>\n",
       "      <th>Cloudiness</th>\n",
       "      <th>Wind Speed</th>\n",
       "      <th>Date</th>\n",
       "    </tr>\n",
       "  </thead>\n",
       "  <tbody>\n",
       "    <tr>\n",
       "      <th>0</th>\n",
       "      <td>Nikolskoye</td>\n",
       "      <td>RU</td>\n",
       "      <td>59.70</td>\n",
       "      <td>30.79</td>\n",
       "      <td>8.33</td>\n",
       "      <td>93</td>\n",
       "      <td>53</td>\n",
       "      <td>1.00</td>\n",
       "      <td>09/30/2020</td>\n",
       "    </tr>\n",
       "    <tr>\n",
       "      <th>1</th>\n",
       "      <td>Mezhdurechensk</td>\n",
       "      <td>RU</td>\n",
       "      <td>53.69</td>\n",
       "      <td>88.06</td>\n",
       "      <td>1.46</td>\n",
       "      <td>92</td>\n",
       "      <td>100</td>\n",
       "      <td>2.87</td>\n",
       "      <td>09/30/2020</td>\n",
       "    </tr>\n",
       "    <tr>\n",
       "      <th>2</th>\n",
       "      <td>Kulhudhuffushi</td>\n",
       "      <td>MV</td>\n",
       "      <td>6.62</td>\n",
       "      <td>73.07</td>\n",
       "      <td>27.58</td>\n",
       "      <td>73</td>\n",
       "      <td>87</td>\n",
       "      <td>4.51</td>\n",
       "      <td>09/30/2020</td>\n",
       "    </tr>\n",
       "    <tr>\n",
       "      <th>3</th>\n",
       "      <td>Lobatse</td>\n",
       "      <td>BW</td>\n",
       "      <td>-25.22</td>\n",
       "      <td>25.67</td>\n",
       "      <td>16.00</td>\n",
       "      <td>82</td>\n",
       "      <td>92</td>\n",
       "      <td>10.30</td>\n",
       "      <td>09/30/2020</td>\n",
       "    </tr>\n",
       "    <tr>\n",
       "      <th>4</th>\n",
       "      <td>Ushuaia</td>\n",
       "      <td>AR</td>\n",
       "      <td>-54.80</td>\n",
       "      <td>-68.30</td>\n",
       "      <td>-1.00</td>\n",
       "      <td>80</td>\n",
       "      <td>90</td>\n",
       "      <td>12.30</td>\n",
       "      <td>09/30/2020</td>\n",
       "    </tr>\n",
       "  </tbody>\n",
       "</table>\n",
       "</div>"
      ],
      "text/plain": [
       "             City Country    Lat   Long  Max Temp  Humidity  Cloudiness  \\\n",
       "0      Nikolskoye      RU  59.70  30.79      8.33        93          53   \n",
       "1  Mezhdurechensk      RU  53.69  88.06      1.46        92         100   \n",
       "2  Kulhudhuffushi      MV   6.62  73.07     27.58        73          87   \n",
       "3         Lobatse      BW -25.22  25.67     16.00        82          92   \n",
       "4         Ushuaia      AR -54.80 -68.30     -1.00        80          90   \n",
       "\n",
       "   Wind Speed        Date  \n",
       "0        1.00  09/30/2020  \n",
       "1        2.87  09/30/2020  \n",
       "2        4.51  09/30/2020  \n",
       "3       10.30  09/30/2020  \n",
       "4       12.30  09/30/2020  "
      ]
     },
     "execution_count": 17,
     "metadata": {},
     "output_type": "execute_result"
    }
   ],
   "source": [
    "main_df = pd.read_csv(\"output_data/main_df.csv\", index_col=0)\n",
    "main_df.head()"
   ]
  },
  {
   "cell_type": "markdown",
   "metadata": {},
   "source": [
    "### Humidity Heatmap\n",
    "* Configure gmaps.\n",
    "* Use the Lat and Lng as locations and Humidity as the weight.\n",
    "* Add Heatmap layer to map."
   ]
  },
  {
   "cell_type": "code",
   "execution_count": 14,
   "metadata": {},
   "outputs": [
    {
     "data": {
      "application/vnd.jupyter.widget-view+json": {
       "model_id": "a90954b7a1824feb9bea4318988348f0",
       "version_major": 2,
       "version_minor": 0
      },
      "text/plain": [
       "Figure(layout=FigureLayout(height='420px'))"
      ]
     },
     "metadata": {},
     "output_type": "display_data"
    }
   ],
   "source": [
    "gmaps.configure(api_key=g_key)\n",
    "locations = main_df[[\"Lat\", \"Long\"]]\n",
    "weights = main_df[\"Humidity\"]\n",
    "fig = gmaps.figure()\n",
    "fig.add_layer(gmaps.heatmap_layer(locations, weights=weights, dissipating=False))\n",
    "fig"
   ]
  },
  {
   "cell_type": "code",
   "execution_count": 18,
   "metadata": {},
   "outputs": [
    {
     "data": {
      "text/html": [
       "<div>\n",
       "<style scoped>\n",
       "    .dataframe tbody tr th:only-of-type {\n",
       "        vertical-align: middle;\n",
       "    }\n",
       "\n",
       "    .dataframe tbody tr th {\n",
       "        vertical-align: top;\n",
       "    }\n",
       "\n",
       "    .dataframe thead th {\n",
       "        text-align: right;\n",
       "    }\n",
       "</style>\n",
       "<table border=\"1\" class=\"dataframe\">\n",
       "  <thead>\n",
       "    <tr style=\"text-align: right;\">\n",
       "      <th></th>\n",
       "      <th>City</th>\n",
       "      <th>Country</th>\n",
       "      <th>Lat</th>\n",
       "      <th>Long</th>\n",
       "      <th>Max Temp</th>\n",
       "      <th>Humidity</th>\n",
       "      <th>Cloudiness</th>\n",
       "      <th>Wind Speed</th>\n",
       "      <th>Date</th>\n",
       "    </tr>\n",
       "  </thead>\n",
       "  <tbody>\n",
       "    <tr>\n",
       "      <th>29</th>\n",
       "      <td>Chimoré</td>\n",
       "      <td>BO</td>\n",
       "      <td>-16.98</td>\n",
       "      <td>-65.13</td>\n",
       "      <td>27.26</td>\n",
       "      <td>53</td>\n",
       "      <td>29</td>\n",
       "      <td>0.70</td>\n",
       "      <td>09/30/2020</td>\n",
       "    </tr>\n",
       "    <tr>\n",
       "      <th>31</th>\n",
       "      <td>George Town</td>\n",
       "      <td>MY</td>\n",
       "      <td>5.41</td>\n",
       "      <td>100.34</td>\n",
       "      <td>28.00</td>\n",
       "      <td>88</td>\n",
       "      <td>20</td>\n",
       "      <td>1.50</td>\n",
       "      <td>09/30/2020</td>\n",
       "    </tr>\n",
       "    <tr>\n",
       "      <th>33</th>\n",
       "      <td>Atuona</td>\n",
       "      <td>PF</td>\n",
       "      <td>-9.80</td>\n",
       "      <td>-139.03</td>\n",
       "      <td>25.88</td>\n",
       "      <td>74</td>\n",
       "      <td>1</td>\n",
       "      <td>9.00</td>\n",
       "      <td>09/30/2020</td>\n",
       "    </tr>\n",
       "    <tr>\n",
       "      <th>38</th>\n",
       "      <td>Bengkulu</td>\n",
       "      <td>ID</td>\n",
       "      <td>-3.80</td>\n",
       "      <td>102.27</td>\n",
       "      <td>26.97</td>\n",
       "      <td>78</td>\n",
       "      <td>19</td>\n",
       "      <td>2.62</td>\n",
       "      <td>09/30/2020</td>\n",
       "    </tr>\n",
       "    <tr>\n",
       "      <th>49</th>\n",
       "      <td>Butaritari</td>\n",
       "      <td>KI</td>\n",
       "      <td>3.07</td>\n",
       "      <td>172.79</td>\n",
       "      <td>27.75</td>\n",
       "      <td>74</td>\n",
       "      <td>23</td>\n",
       "      <td>8.44</td>\n",
       "      <td>09/30/2020</td>\n",
       "    </tr>\n",
       "    <tr>\n",
       "      <th>51</th>\n",
       "      <td>Mackay</td>\n",
       "      <td>AU</td>\n",
       "      <td>-21.15</td>\n",
       "      <td>149.20</td>\n",
       "      <td>26.67</td>\n",
       "      <td>57</td>\n",
       "      <td>0</td>\n",
       "      <td>3.60</td>\n",
       "      <td>09/30/2020</td>\n",
       "    </tr>\n",
       "  </tbody>\n",
       "</table>\n",
       "</div>"
      ],
      "text/plain": [
       "           City Country    Lat    Long  Max Temp  Humidity  Cloudiness  \\\n",
       "29      Chimoré      BO -16.98  -65.13     27.26        53          29   \n",
       "31  George Town      MY   5.41  100.34     28.00        88          20   \n",
       "33       Atuona      PF  -9.80 -139.03     25.88        74           1   \n",
       "38     Bengkulu      ID  -3.80  102.27     26.97        78          19   \n",
       "49   Butaritari      KI   3.07  172.79     27.75        74          23   \n",
       "51       Mackay      AU -21.15  149.20     26.67        57           0   \n",
       "\n",
       "    Wind Speed        Date  \n",
       "29        0.70  09/30/2020  \n",
       "31        1.50  09/30/2020  \n",
       "33        9.00  09/30/2020  \n",
       "38        2.62  09/30/2020  \n",
       "49        8.44  09/30/2020  \n",
       "51        3.60  09/30/2020  "
      ]
     },
     "execution_count": 18,
     "metadata": {},
     "output_type": "execute_result"
    }
   ],
   "source": [
    "#Narrow down the DataFrame to find your ideal weather condition. For example:\n",
    "    \n",
    "hotel_df = main_df.loc[(main_df[\"Max Temp\"] > 25) & (main_df[\"Max Temp\"] < 30) & (main_df[\"Wind Speed\"] < 15) & (main_df[\"Cloudiness\"] < 60)]             \n",
    "hotel_df"
   ]
  },
  {
   "cell_type": "markdown",
   "metadata": {},
   "source": [
    "### Hotel Map\n",
    "* Store into variable named `hotel_df`.\n",
    "* Add a \"Hotel Name\" column to the DataFrame.\n",
    "* Set parameters to search for hotels with 5000 meters.\n",
    "* Hit the Google Places API for each city's coordinates.\n",
    "* Store the first Hotel result into the DataFrame.\n",
    "* Plot markers on top of the heatmap."
   ]
  },
  {
   "cell_type": "code",
   "execution_count": 24,
   "metadata": {},
   "outputs": [
    {
     "name": "stdout",
     "output_type": "stream",
     "text": [
      "This is the #1 exception\n"
     ]
    }
   ],
   "source": [
    "Hotel_name = []\n",
    "exception = 1\n",
    "params = {\n",
    "    \"radius\": 5000,\n",
    "    \"types\": \"lodging\",\n",
    "    \"keyword\": \"hotel\",\n",
    "    \"key\": g_key}\n",
    "\n",
    "for index, row in hotel_df.iterrows():\n",
    "    \n",
    "    lat = row[\"Lat\"]\n",
    "    long = row[\"Long\"]\n",
    "    params[\"location\"] = f\"{lat},{long}\"\n",
    "\n",
    "    base_url = \"https://maps.googleapis.com/maps/api/place/nearbysearch/json\"\n",
    "    response = requests.get(base_url, params=params).json()\n",
    "    \n",
    "    try:\n",
    "        hotel = response[\"results\"][0][\"name\"]\n",
    "        Hotel_name.append(hotel)\n",
    "    except:\n",
    "        print(f\"This is the #{exception} exception\")\n",
    "        Hotel_name.append(\"none\")\n",
    "        exception = exception + 1\n",
    "        pass\n"
   ]
  },
  {
   "cell_type": "code",
   "execution_count": 28,
   "metadata": {},
   "outputs": [
    {
     "data": {
      "text/html": [
       "<div>\n",
       "<style scoped>\n",
       "    .dataframe tbody tr th:only-of-type {\n",
       "        vertical-align: middle;\n",
       "    }\n",
       "\n",
       "    .dataframe tbody tr th {\n",
       "        vertical-align: top;\n",
       "    }\n",
       "\n",
       "    .dataframe thead th {\n",
       "        text-align: right;\n",
       "    }\n",
       "</style>\n",
       "<table border=\"1\" class=\"dataframe\">\n",
       "  <thead>\n",
       "    <tr style=\"text-align: right;\">\n",
       "      <th></th>\n",
       "      <th>City</th>\n",
       "      <th>Country</th>\n",
       "      <th>Lat</th>\n",
       "      <th>Long</th>\n",
       "      <th>Hotel Name</th>\n",
       "    </tr>\n",
       "  </thead>\n",
       "  <tbody>\n",
       "    <tr>\n",
       "      <th>29</th>\n",
       "      <td>Chimoré</td>\n",
       "      <td>BO</td>\n",
       "      <td>-16.98</td>\n",
       "      <td>-65.13</td>\n",
       "      <td>Hotel Copacabana</td>\n",
       "    </tr>\n",
       "    <tr>\n",
       "      <th>31</th>\n",
       "      <td>George Town</td>\n",
       "      <td>MY</td>\n",
       "      <td>5.41</td>\n",
       "      <td>100.34</td>\n",
       "      <td>The Prestige Hotel Penang</td>\n",
       "    </tr>\n",
       "    <tr>\n",
       "      <th>33</th>\n",
       "      <td>Atuona</td>\n",
       "      <td>PF</td>\n",
       "      <td>-9.80</td>\n",
       "      <td>-139.03</td>\n",
       "      <td>CHALETS HANAKEE</td>\n",
       "    </tr>\n",
       "    <tr>\n",
       "      <th>38</th>\n",
       "      <td>Bengkulu</td>\n",
       "      <td>ID</td>\n",
       "      <td>-3.80</td>\n",
       "      <td>102.27</td>\n",
       "      <td>Mercure Bengkulu</td>\n",
       "    </tr>\n",
       "    <tr>\n",
       "      <th>51</th>\n",
       "      <td>Mackay</td>\n",
       "      <td>AU</td>\n",
       "      <td>-21.15</td>\n",
       "      <td>149.20</td>\n",
       "      <td>Mantra Mackay</td>\n",
       "    </tr>\n",
       "  </tbody>\n",
       "</table>\n",
       "</div>"
      ],
      "text/plain": [
       "           City Country    Lat    Long                 Hotel Name\n",
       "29      Chimoré      BO -16.98  -65.13           Hotel Copacabana\n",
       "31  George Town      MY   5.41  100.34  The Prestige Hotel Penang\n",
       "33       Atuona      PF  -9.80 -139.03            CHALETS HANAKEE\n",
       "38     Bengkulu      ID  -3.80  102.27           Mercure Bengkulu\n",
       "51       Mackay      AU -21.15  149.20              Mantra Mackay"
      ]
     },
     "execution_count": 28,
     "metadata": {},
     "output_type": "execute_result"
    }
   ],
   "source": [
    "#hotel_df.insert(8, \"Hotel Name\", Hotel_name)\n",
    "hotel_data = hotel_df.loc[hotel_df[\"Hotel Name\"]!=\"none\"]\n",
    "new_hotel_data = hotel_data.drop([\"Max Temp\", \"Humidity\", \"Cloudiness\", \"Wind Speed\", \"Date\"], axis=1)\n",
    "new_hotel_data"
   ]
  },
  {
   "cell_type": "code",
   "execution_count": 29,
   "metadata": {},
   "outputs": [
    {
     "data": {
      "text/plain": [
       "[(-16.98, -65.13),\n",
       " (5.41, 100.34),\n",
       " (-9.8, -139.03),\n",
       " (-3.8, 102.27),\n",
       " (-21.15, 149.2)]"
      ]
     },
     "execution_count": 29,
     "metadata": {},
     "output_type": "execute_result"
    }
   ],
   "source": [
    "a = new_hotel_data[\"Lat\"].tolist()\n",
    "b = new_hotel_data[\"Long\"].tolist()\n",
    "x = zip(a, b)\n",
    "coordinates = list(x)\n",
    "coordinates"
   ]
  },
  {
   "cell_type": "code",
   "execution_count": 30,
   "metadata": {},
   "outputs": [],
   "source": [
    "# NOTE: Do not change any of the code in this cell\n",
    "# Using the template add the hotel marks to the heatmap\n",
    "info_box_template = \"\"\"\n",
    "<dl>\n",
    "<dt>Name</dt><dd>{Hotel Name}</dd>\n",
    "<dt>City</dt><dd>{City}</dd>\n",
    "<dt>Country</dt><dd>{Country}</dd>\n",
    "</dl>\n",
    "\"\"\"\n",
    "# Store the DataFrame Row\n",
    "# NOTE: be sure to update with your DataFrame name\n",
    "hotel_info = [info_box_template.format(**row) for index, row in new_hotel_data.iterrows()]\n",
    "#locations = hotel_df[[\"Lat\", \"Long\"]]"
   ]
  },
  {
   "cell_type": "code",
   "execution_count": 31,
   "metadata": {
    "scrolled": true
   },
   "outputs": [
    {
     "data": {
      "application/vnd.jupyter.widget-view+json": {
       "model_id": "a90954b7a1824feb9bea4318988348f0",
       "version_major": 2,
       "version_minor": 0
      },
      "text/plain": [
       "Figure(layout=FigureLayout(height='420px'))"
      ]
     },
     "metadata": {},
     "output_type": "display_data"
    }
   ],
   "source": [
    "# Add marker layer ontop of heat map\n",
    "markers = gmaps.marker_layer(coordinates,info_box_content=hotel_info)\n",
    "fig.add_layer(markers)\n",
    "fig\n",
    "# Display figure\n"
   ]
  },
  {
   "cell_type": "code",
   "execution_count": null,
   "metadata": {},
   "outputs": [],
   "source": []
  }
 ],
 "metadata": {
  "kernelspec": {
   "display_name": "Python 3",
   "language": "python",
   "name": "python3"
  },
  "language_info": {
   "codemirror_mode": {
    "name": "ipython",
    "version": 3
   },
   "file_extension": ".py",
   "mimetype": "text/x-python",
   "name": "python",
   "nbconvert_exporter": "python",
   "pygments_lexer": "ipython3",
   "version": "3.7.7"
  },
  "latex_envs": {
   "LaTeX_envs_menu_present": true,
   "autoclose": false,
   "autocomplete": true,
   "bibliofile": "biblio.bib",
   "cite_by": "apalike",
   "current_citInitial": 1,
   "eqLabelWithNumbers": true,
   "eqNumInitial": 1,
   "hotkeys": {
    "equation": "Ctrl-E",
    "itemize": "Ctrl-I"
   },
   "labels_anchors": false,
   "latex_user_defs": false,
   "report_style_numbering": false,
   "user_envs_cfg": false
  }
 },
 "nbformat": 4,
 "nbformat_minor": 4
}
