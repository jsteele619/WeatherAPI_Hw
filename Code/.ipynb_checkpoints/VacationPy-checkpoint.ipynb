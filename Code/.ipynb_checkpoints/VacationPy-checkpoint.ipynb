{
 "cells": [
  {
   "cell_type": "markdown",
   "metadata": {},
   "source": [
    "# VacationPy\n",
    "----\n",
    "\n",
    "#### Note\n",
    "* Keep an eye on your API usage. Use https://developers.google.com/maps/reporting/gmp-reporting as reference for how to monitor your usage and billing.\n",
    "\n",
    "* Instructions have been included for each segment. You do not have to follow them exactly, but they are included to help you think through the steps."
   ]
  },
  {
   "cell_type": "code",
   "execution_count": 2,
   "metadata": {},
   "outputs": [],
   "source": [
    "# Dependencies and Setup\n",
    "import matplotlib.pyplot as plt\n",
    "import pandas as pd\n",
    "import numpy as np\n",
    "import requests\n",
    "import gmaps\n",
    "import os\n",
    "\n",
    "# Import API key\n",
    "from api_keys import g_key"
   ]
  },
  {
   "cell_type": "markdown",
   "metadata": {},
   "source": [
    "### Store Part I results into DataFrame\n",
    "* Load the csv exported in Part I to a DataFrame"
   ]
  },
  {
   "cell_type": "code",
   "execution_count": 3,
   "metadata": {},
   "outputs": [
    {
     "data": {
      "text/html": [
       "<div>\n",
       "<style scoped>\n",
       "    .dataframe tbody tr th:only-of-type {\n",
       "        vertical-align: middle;\n",
       "    }\n",
       "\n",
       "    .dataframe tbody tr th {\n",
       "        vertical-align: top;\n",
       "    }\n",
       "\n",
       "    .dataframe thead th {\n",
       "        text-align: right;\n",
       "    }\n",
       "</style>\n",
       "<table border=\"1\" class=\"dataframe\">\n",
       "  <thead>\n",
       "    <tr style=\"text-align: right;\">\n",
       "      <th></th>\n",
       "      <th>City</th>\n",
       "      <th>Country</th>\n",
       "      <th>Lat</th>\n",
       "      <th>Long</th>\n",
       "      <th>Max Temp</th>\n",
       "      <th>Humidity</th>\n",
       "      <th>Cloudiness</th>\n",
       "      <th>Wind Speed</th>\n",
       "      <th>Date</th>\n",
       "    </tr>\n",
       "  </thead>\n",
       "  <tbody>\n",
       "    <tr>\n",
       "      <th>0</th>\n",
       "      <td>Punta Arenas</td>\n",
       "      <td>CL</td>\n",
       "      <td>-53.15</td>\n",
       "      <td>-70.92</td>\n",
       "      <td>1.00</td>\n",
       "      <td>86</td>\n",
       "      <td>75</td>\n",
       "      <td>8.20</td>\n",
       "      <td>09/29/2020</td>\n",
       "    </tr>\n",
       "    <tr>\n",
       "      <th>1</th>\n",
       "      <td>Puerto Ayora</td>\n",
       "      <td>EC</td>\n",
       "      <td>-0.74</td>\n",
       "      <td>-90.35</td>\n",
       "      <td>20.00</td>\n",
       "      <td>89</td>\n",
       "      <td>93</td>\n",
       "      <td>1.79</td>\n",
       "      <td>09/29/2020</td>\n",
       "    </tr>\n",
       "    <tr>\n",
       "      <th>2</th>\n",
       "      <td>Grand Gaube</td>\n",
       "      <td>MU</td>\n",
       "      <td>-20.01</td>\n",
       "      <td>57.66</td>\n",
       "      <td>21.67</td>\n",
       "      <td>84</td>\n",
       "      <td>95</td>\n",
       "      <td>1.34</td>\n",
       "      <td>09/29/2020</td>\n",
       "    </tr>\n",
       "    <tr>\n",
       "      <th>3</th>\n",
       "      <td>Aykhal</td>\n",
       "      <td>RU</td>\n",
       "      <td>66.00</td>\n",
       "      <td>111.50</td>\n",
       "      <td>-4.00</td>\n",
       "      <td>79</td>\n",
       "      <td>90</td>\n",
       "      <td>3.00</td>\n",
       "      <td>09/29/2020</td>\n",
       "    </tr>\n",
       "    <tr>\n",
       "      <th>4</th>\n",
       "      <td>Ushuaia</td>\n",
       "      <td>AR</td>\n",
       "      <td>-54.80</td>\n",
       "      <td>-68.30</td>\n",
       "      <td>1.00</td>\n",
       "      <td>80</td>\n",
       "      <td>75</td>\n",
       "      <td>9.80</td>\n",
       "      <td>09/29/2020</td>\n",
       "    </tr>\n",
       "  </tbody>\n",
       "</table>\n",
       "</div>"
      ],
      "text/plain": [
       "           City Country    Lat    Long  Max Temp  Humidity  Cloudiness  \\\n",
       "0  Punta Arenas      CL -53.15  -70.92      1.00        86          75   \n",
       "1  Puerto Ayora      EC  -0.74  -90.35     20.00        89          93   \n",
       "2   Grand Gaube      MU -20.01   57.66     21.67        84          95   \n",
       "3        Aykhal      RU  66.00  111.50     -4.00        79          90   \n",
       "4       Ushuaia      AR -54.80  -68.30      1.00        80          75   \n",
       "\n",
       "   Wind Speed        Date  \n",
       "0        8.20  09/29/2020  \n",
       "1        1.79  09/29/2020  \n",
       "2        1.34  09/29/2020  \n",
       "3        3.00  09/29/2020  \n",
       "4        9.80  09/29/2020  "
      ]
     },
     "execution_count": 3,
     "metadata": {},
     "output_type": "execute_result"
    }
   ],
   "source": [
    "main_df = pd.read_csv(\"output_data.csv\", index_col=0)\n",
    "main_df.head()"
   ]
  },
  {
   "cell_type": "markdown",
   "metadata": {},
   "source": [
    "### Humidity Heatmap\n",
    "* Configure gmaps.\n",
    "* Use the Lat and Lng as locations and Humidity as the weight.\n",
    "* Add Heatmap layer to map."
   ]
  },
  {
   "cell_type": "code",
   "execution_count": 4,
   "metadata": {},
   "outputs": [
    {
     "data": {
      "application/vnd.jupyter.widget-view+json": {
       "model_id": "4d8511762d6b4ac294072824a7fe4078",
       "version_major": 2,
       "version_minor": 0
      },
      "text/plain": [
       "Figure(layout=FigureLayout(height='420px'))"
      ]
     },
     "metadata": {},
     "output_type": "display_data"
    }
   ],
   "source": [
    "gmaps.configure(api_key=g_key)\n",
    "locations = main_df[[\"Lat\", \"Long\"]]\n",
    "weights = main_df[\"Humidity\"]\n",
    "fig = gmaps.figure()\n",
    "fig.add_layer(gmaps.heatmap_layer(locations, weights=weights, dissipating=False))\n",
    "fig"
   ]
  },
  {
   "cell_type": "code",
   "execution_count": 5,
   "metadata": {},
   "outputs": [
    {
     "data": {
      "text/html": [
       "<div>\n",
       "<style scoped>\n",
       "    .dataframe tbody tr th:only-of-type {\n",
       "        vertical-align: middle;\n",
       "    }\n",
       "\n",
       "    .dataframe tbody tr th {\n",
       "        vertical-align: top;\n",
       "    }\n",
       "\n",
       "    .dataframe thead th {\n",
       "        text-align: right;\n",
       "    }\n",
       "</style>\n",
       "<table border=\"1\" class=\"dataframe\">\n",
       "  <thead>\n",
       "    <tr style=\"text-align: right;\">\n",
       "      <th></th>\n",
       "      <th>City</th>\n",
       "      <th>Country</th>\n",
       "      <th>Lat</th>\n",
       "      <th>Long</th>\n",
       "      <th>Max Temp</th>\n",
       "      <th>Humidity</th>\n",
       "      <th>Cloudiness</th>\n",
       "      <th>Wind Speed</th>\n",
       "      <th>Date</th>\n",
       "    </tr>\n",
       "  </thead>\n",
       "  <tbody>\n",
       "    <tr>\n",
       "      <th>7</th>\n",
       "      <td>Black River</td>\n",
       "      <td>JM</td>\n",
       "      <td>18.03</td>\n",
       "      <td>-77.85</td>\n",
       "      <td>27.00</td>\n",
       "      <td>83</td>\n",
       "      <td>40</td>\n",
       "      <td>0.50</td>\n",
       "      <td>09/29/2020</td>\n",
       "    </tr>\n",
       "    <tr>\n",
       "      <th>19</th>\n",
       "      <td>Kapaa</td>\n",
       "      <td>US</td>\n",
       "      <td>22.08</td>\n",
       "      <td>-159.32</td>\n",
       "      <td>29.00</td>\n",
       "      <td>66</td>\n",
       "      <td>1</td>\n",
       "      <td>3.10</td>\n",
       "      <td>09/29/2020</td>\n",
       "    </tr>\n",
       "    <tr>\n",
       "      <th>24</th>\n",
       "      <td>Road Town</td>\n",
       "      <td>VG</td>\n",
       "      <td>18.42</td>\n",
       "      <td>-64.62</td>\n",
       "      <td>28.33</td>\n",
       "      <td>88</td>\n",
       "      <td>1</td>\n",
       "      <td>4.92</td>\n",
       "      <td>09/29/2020</td>\n",
       "    </tr>\n",
       "    <tr>\n",
       "      <th>39</th>\n",
       "      <td>Marawi</td>\n",
       "      <td>PH</td>\n",
       "      <td>8.00</td>\n",
       "      <td>124.29</td>\n",
       "      <td>28.89</td>\n",
       "      <td>75</td>\n",
       "      <td>53</td>\n",
       "      <td>3.13</td>\n",
       "      <td>09/29/2020</td>\n",
       "    </tr>\n",
       "    <tr>\n",
       "      <th>40</th>\n",
       "      <td>Butaritari</td>\n",
       "      <td>KI</td>\n",
       "      <td>3.07</td>\n",
       "      <td>172.79</td>\n",
       "      <td>28.13</td>\n",
       "      <td>75</td>\n",
       "      <td>20</td>\n",
       "      <td>5.79</td>\n",
       "      <td>09/29/2020</td>\n",
       "    </tr>\n",
       "    <tr>\n",
       "      <th>42</th>\n",
       "      <td>Tessalit</td>\n",
       "      <td>ML</td>\n",
       "      <td>20.20</td>\n",
       "      <td>1.01</td>\n",
       "      <td>29.36</td>\n",
       "      <td>14</td>\n",
       "      <td>0</td>\n",
       "      <td>2.16</td>\n",
       "      <td>09/29/2020</td>\n",
       "    </tr>\n",
       "    <tr>\n",
       "      <th>48</th>\n",
       "      <td>Fomboni</td>\n",
       "      <td>KM</td>\n",
       "      <td>-12.28</td>\n",
       "      <td>43.74</td>\n",
       "      <td>25.20</td>\n",
       "      <td>79</td>\n",
       "      <td>3</td>\n",
       "      <td>6.14</td>\n",
       "      <td>09/29/2020</td>\n",
       "    </tr>\n",
       "  </tbody>\n",
       "</table>\n",
       "</div>"
      ],
      "text/plain": [
       "           City Country    Lat    Long  Max Temp  Humidity  Cloudiness  \\\n",
       "7   Black River      JM  18.03  -77.85     27.00        83          40   \n",
       "19        Kapaa      US  22.08 -159.32     29.00        66           1   \n",
       "24    Road Town      VG  18.42  -64.62     28.33        88           1   \n",
       "39       Marawi      PH   8.00  124.29     28.89        75          53   \n",
       "40   Butaritari      KI   3.07  172.79     28.13        75          20   \n",
       "42     Tessalit      ML  20.20    1.01     29.36        14           0   \n",
       "48      Fomboni      KM -12.28   43.74     25.20        79           3   \n",
       "\n",
       "    Wind Speed        Date  \n",
       "7         0.50  09/29/2020  \n",
       "19        3.10  09/29/2020  \n",
       "24        4.92  09/29/2020  \n",
       "39        3.13  09/29/2020  \n",
       "40        5.79  09/29/2020  \n",
       "42        2.16  09/29/2020  \n",
       "48        6.14  09/29/2020  "
      ]
     },
     "execution_count": 5,
     "metadata": {},
     "output_type": "execute_result"
    }
   ],
   "source": [
    "#Narrow down the DataFrame to find your ideal weather condition. For example:\n",
    "    \n",
    "hotel_df = main_df.loc[(main_df[\"Max Temp\"] > 25) & (main_df[\"Max Temp\"] < 30) & (main_df[\"Wind Speed\"] < 15) & (main_df[\"Cloudiness\"] < 60)]             \n",
    "hotel_df"
   ]
  },
  {
   "cell_type": "markdown",
   "metadata": {},
   "source": [
    "### Hotel Map\n",
    "* Store into variable named `hotel_df`.\n",
    "* Add a \"Hotel Name\" column to the DataFrame.\n",
    "* Set parameters to search for hotels with 5000 meters.\n",
    "* Hit the Google Places API for each city's coordinates.\n",
    "* Store the first Hotel result into the DataFrame.\n",
    "* Plot markers on top of the heatmap."
   ]
  },
  {
   "cell_type": "code",
   "execution_count": 6,
   "metadata": {},
   "outputs": [
    {
     "name": "stdout",
     "output_type": "stream",
     "text": [
      "This is the #1 exception\n",
      "This is the #2 exception\n"
     ]
    }
   ],
   "source": [
    "Hotel_name = []\n",
    "exception = 1\n",
    "params = {\n",
    "    \"radius\": 5000,\n",
    "    \"types\": \"lodging\",\n",
    "    \"keyword\": \"hotel\",\n",
    "    \"key\": g_key}\n",
    "\n",
    "for index, row in hotel_df.iterrows():\n",
    "    \n",
    "    lat = row[\"Lat\"]\n",
    "    long = row[\"Long\"]\n",
    "    params[\"location\"] = f\"{lat},{long}\"\n",
    "\n",
    "    base_url = \"https://maps.googleapis.com/maps/api/place/nearbysearch/json\"\n",
    "    response = requests.get(base_url, params=params).json()\n",
    "    \n",
    "    try:\n",
    "        hotel = response[\"results\"][0][\"name\"]\n",
    "        Hotel_name.append(hotel)\n",
    "    except:\n",
    "        print(f\"This is the #{exception} exception\")\n",
    "        Hotel_name.append(\"none\")\n",
    "        exception = exception + 1\n",
    "        pass\n"
   ]
  },
  {
   "cell_type": "code",
   "execution_count": 7,
   "metadata": {},
   "outputs": [
    {
     "data": {
      "text/html": [
       "<div>\n",
       "<style scoped>\n",
       "    .dataframe tbody tr th:only-of-type {\n",
       "        vertical-align: middle;\n",
       "    }\n",
       "\n",
       "    .dataframe tbody tr th {\n",
       "        vertical-align: top;\n",
       "    }\n",
       "\n",
       "    .dataframe thead th {\n",
       "        text-align: right;\n",
       "    }\n",
       "</style>\n",
       "<table border=\"1\" class=\"dataframe\">\n",
       "  <thead>\n",
       "    <tr style=\"text-align: right;\">\n",
       "      <th></th>\n",
       "      <th>City</th>\n",
       "      <th>Country</th>\n",
       "      <th>Lat</th>\n",
       "      <th>Long</th>\n",
       "      <th>Hotel Name</th>\n",
       "    </tr>\n",
       "  </thead>\n",
       "  <tbody>\n",
       "    <tr>\n",
       "      <th>7</th>\n",
       "      <td>Black River</td>\n",
       "      <td>JM</td>\n",
       "      <td>18.03</td>\n",
       "      <td>-77.85</td>\n",
       "      <td>Idlers' Rest Beach Hotel</td>\n",
       "    </tr>\n",
       "    <tr>\n",
       "      <th>19</th>\n",
       "      <td>Kapaa</td>\n",
       "      <td>US</td>\n",
       "      <td>22.08</td>\n",
       "      <td>-159.32</td>\n",
       "      <td>Hilton Garden Inn Kauai Wailua Bay</td>\n",
       "    </tr>\n",
       "    <tr>\n",
       "      <th>24</th>\n",
       "      <td>Road Town</td>\n",
       "      <td>VG</td>\n",
       "      <td>18.42</td>\n",
       "      <td>-64.62</td>\n",
       "      <td>Wyndham Tortola BVI Lambert Beach Resort</td>\n",
       "    </tr>\n",
       "    <tr>\n",
       "      <th>39</th>\n",
       "      <td>Marawi</td>\n",
       "      <td>PH</td>\n",
       "      <td>8.00</td>\n",
       "      <td>124.29</td>\n",
       "      <td>Marawi Resort Hotel</td>\n",
       "    </tr>\n",
       "    <tr>\n",
       "      <th>48</th>\n",
       "      <td>Fomboni</td>\n",
       "      <td>KM</td>\n",
       "      <td>-12.28</td>\n",
       "      <td>43.74</td>\n",
       "      <td>Le Relais de Singani hôtel</td>\n",
       "    </tr>\n",
       "  </tbody>\n",
       "</table>\n",
       "</div>"
      ],
      "text/plain": [
       "           City Country    Lat    Long  \\\n",
       "7   Black River      JM  18.03  -77.85   \n",
       "19        Kapaa      US  22.08 -159.32   \n",
       "24    Road Town      VG  18.42  -64.62   \n",
       "39       Marawi      PH   8.00  124.29   \n",
       "48      Fomboni      KM -12.28   43.74   \n",
       "\n",
       "                                  Hotel Name  \n",
       "7                   Idlers' Rest Beach Hotel  \n",
       "19        Hilton Garden Inn Kauai Wailua Bay  \n",
       "24  Wyndham Tortola BVI Lambert Beach Resort  \n",
       "39                       Marawi Resort Hotel  \n",
       "48                Le Relais de Singani hôtel  "
      ]
     },
     "execution_count": 7,
     "metadata": {},
     "output_type": "execute_result"
    }
   ],
   "source": [
    "hotel_df.insert(8, \"Hotel Name\", Hotel_name)\n",
    "hotel_data = hotel_df.loc[hotel_df[\"Hotel Name\"]!=\"none\"]\n",
    "new_hotel_data = hotel_data.drop([\"Max Temp\", \"Humidity\", \"Cloudiness\", \"Wind Speed\", \"Date\"], axis=1)\n",
    "new_hotel_data"
   ]
  },
  {
   "cell_type": "code",
   "execution_count": 8,
   "metadata": {},
   "outputs": [
    {
     "data": {
      "text/plain": [
       "[(18.03, -77.85),\n",
       " (22.08, -159.32),\n",
       " (18.42, -64.62),\n",
       " (8.0, 124.29),\n",
       " (-12.28, 43.74)]"
      ]
     },
     "execution_count": 8,
     "metadata": {},
     "output_type": "execute_result"
    }
   ],
   "source": [
    "a = new_hotel_data[\"Lat\"].tolist()\n",
    "b = new_hotel_data[\"Long\"].tolist()\n",
    "x = zip(a, b)\n",
    "coordinates = list(x)\n",
    "coordinates"
   ]
  },
  {
   "cell_type": "code",
   "execution_count": 32,
   "metadata": {},
   "outputs": [
    {
     "ename": "SyntaxError",
     "evalue": "f-string: unterminated string (<ipython-input-32-7ab536a35625>, line 4)",
     "output_type": "error",
     "traceback": [
      "\u001b[0;36m  File \u001b[0;32m\"<ipython-input-32-7ab536a35625>\"\u001b[0;36m, line \u001b[0;32m4\u001b[0m\n\u001b[0;31m    names.append(f'<b>City:</b><br>{row[\"Hotel Name\"]\"]}<br><br><b>Country:</b><br>{row[\"City\"]}<br><br><b>Hotel:</b><br>{row[\"Country\"]}')\u001b[0m\n\u001b[0m                ^\u001b[0m\n\u001b[0;31mSyntaxError\u001b[0m\u001b[0;31m:\u001b[0m f-string: unterminated string\n"
     ]
    }
   ],
   "source": [
    "names = []\n",
    "# NOTE: Do not change any of the code in this cell\n",
    "for index, row in hotel_data.iterrows():\n",
    "    names.append(f'<b>City:</b><br>{row[\"Hotel Name\"]\"]}<br><br><b>Country:</b><br>{row[\"City\"]}<br><br><b>Hotel:</b><br>{row[\"Country\"]}')\n",
    "    \n",
    "names\n",
    "# Store the DataFrame Row\n",
    "# NOTE: be sure to update with your DataFrame name\n",
    "#hotel_info = [info_box_template.format(**row) for index, row in hotel_data.iterrows()]\n",
    "#locations = hotel_df[[\"Lat\", \"Long\"]]"
   ]
  },
  {
   "cell_type": "code",
   "execution_count": 30,
   "metadata": {
    "scrolled": true
   },
   "outputs": [
    {
     "ename": "IndexError",
     "evalue": "list index out of range",
     "output_type": "error",
     "traceback": [
      "\u001b[0;31m---------------------------------------------------------------------------\u001b[0m",
      "\u001b[0;31mIndexError\u001b[0m                                Traceback (most recent call last)",
      "\u001b[0;32m<ipython-input-30-7a364bc9a688>\u001b[0m in \u001b[0;36m<module>\u001b[0;34m\u001b[0m\n\u001b[1;32m      1\u001b[0m \u001b[0;31m# Add marker layer ontop of heat map\u001b[0m\u001b[0;34m\u001b[0m\u001b[0;34m\u001b[0m\u001b[0;34m\u001b[0m\u001b[0m\n\u001b[0;32m----> 2\u001b[0;31m \u001b[0mmarkers\u001b[0m \u001b[0;34m=\u001b[0m \u001b[0mgmaps\u001b[0m\u001b[0;34m.\u001b[0m\u001b[0mmarker_layer\u001b[0m\u001b[0;34m(\u001b[0m\u001b[0mcoordinates\u001b[0m\u001b[0;34m,\u001b[0m\u001b[0minfo_box_content\u001b[0m\u001b[0;34m=\u001b[0m\u001b[0mnames\u001b[0m\u001b[0;34m)\u001b[0m\u001b[0;34m\u001b[0m\u001b[0;34m\u001b[0m\u001b[0m\n\u001b[0m\u001b[1;32m      3\u001b[0m \u001b[0mfig\u001b[0m\u001b[0;34m.\u001b[0m\u001b[0madd_layer\u001b[0m\u001b[0;34m(\u001b[0m\u001b[0mmarkers\u001b[0m\u001b[0;34m)\u001b[0m\u001b[0;34m\u001b[0m\u001b[0;34m\u001b[0m\u001b[0m\n\u001b[1;32m      4\u001b[0m \u001b[0mfig\u001b[0m\u001b[0;34m\u001b[0m\u001b[0;34m\u001b[0m\u001b[0m\n\u001b[1;32m      5\u001b[0m \u001b[0;31m# Display figure\u001b[0m\u001b[0;34m\u001b[0m\u001b[0;34m\u001b[0m\u001b[0;34m\u001b[0m\u001b[0m\n",
      "\u001b[0;32m/opt/miniconda3/lib/python3.7/site-packages/gmaps/marker.py\u001b[0m in \u001b[0;36mmarker_layer\u001b[0;34m(locations, hover_text, label, info_box_content, display_info_box)\u001b[0m\n\u001b[1;32m    552\u001b[0m     \"\"\"\n\u001b[1;32m    553\u001b[0m     marker_options = _marker_layer_options(\n\u001b[0;32m--> 554\u001b[0;31m         locations, hover_text, label, info_box_content, display_info_box)\n\u001b[0m\u001b[1;32m    555\u001b[0m     \u001b[0mmarkers\u001b[0m \u001b[0;34m=\u001b[0m \u001b[0;34m[\u001b[0m\u001b[0mMarker\u001b[0m\u001b[0;34m(\u001b[0m\u001b[0;34m**\u001b[0m\u001b[0moption\u001b[0m\u001b[0;34m)\u001b[0m \u001b[0;32mfor\u001b[0m \u001b[0moption\u001b[0m \u001b[0;32min\u001b[0m \u001b[0mmarker_options\u001b[0m\u001b[0;34m]\u001b[0m\u001b[0;34m\u001b[0m\u001b[0;34m\u001b[0m\u001b[0m\n\u001b[1;32m    556\u001b[0m     \u001b[0;32mreturn\u001b[0m \u001b[0mMarkers\u001b[0m\u001b[0;34m(\u001b[0m\u001b[0mmarkers\u001b[0m\u001b[0;34m=\u001b[0m\u001b[0mmarkers\u001b[0m\u001b[0;34m)\u001b[0m\u001b[0;34m\u001b[0m\u001b[0;34m\u001b[0m\u001b[0m\n",
      "\u001b[0;32m/opt/miniconda3/lib/python3.7/site-packages/gmaps/marker.py\u001b[0m in \u001b[0;36m_marker_layer_options\u001b[0;34m(locations, hover_text, label, info_box_content, display_info_box)\u001b[0m\n\u001b[1;32m    319\u001b[0m \u001b[0;34m\u001b[0m\u001b[0m\n\u001b[1;32m    320\u001b[0m     info_box_options = _info_box_option_lists(\n\u001b[0;32m--> 321\u001b[0;31m         number_markers, info_box_content, display_info_box)\n\u001b[0m\u001b[1;32m    322\u001b[0m \u001b[0;34m\u001b[0m\u001b[0m\n\u001b[1;32m    323\u001b[0m     \u001b[0mmarker_options\u001b[0m\u001b[0;34m.\u001b[0m\u001b[0mupdate\u001b[0m\u001b[0;34m(\u001b[0m\u001b[0minfo_box_options\u001b[0m\u001b[0;34m)\u001b[0m\u001b[0;34m\u001b[0m\u001b[0;34m\u001b[0m\u001b[0m\n",
      "\u001b[0;32m/opt/miniconda3/lib/python3.7/site-packages/gmaps/marker.py\u001b[0m in \u001b[0;36m_info_box_option_lists\u001b[0;34m(number_markers, info_box_content, display_info_box)\u001b[0m\n\u001b[1;32m    252\u001b[0m     \u001b[0;32mfor\u001b[0m \u001b[0mimarker\u001b[0m \u001b[0;32min\u001b[0m \u001b[0mrange\u001b[0m\u001b[0;34m(\u001b[0m\u001b[0mnumber_markers\u001b[0m\u001b[0;34m)\u001b[0m\u001b[0;34m:\u001b[0m\u001b[0;34m\u001b[0m\u001b[0;34m\u001b[0m\u001b[0m\n\u001b[1;32m    253\u001b[0m         \u001b[0;32mif\u001b[0m \u001b[0mdisplay_info_box\u001b[0m\u001b[0;34m[\u001b[0m\u001b[0mimarker\u001b[0m\u001b[0;34m]\u001b[0m \u001b[0;32mis\u001b[0m \u001b[0;32mNone\u001b[0m\u001b[0;34m:\u001b[0m\u001b[0;34m\u001b[0m\u001b[0;34m\u001b[0m\u001b[0m\n\u001b[0;32m--> 254\u001b[0;31m             \u001b[0mis_content_empty\u001b[0m \u001b[0;34m=\u001b[0m \u001b[0;34m(\u001b[0m\u001b[0minfo_box_content\u001b[0m\u001b[0;34m[\u001b[0m\u001b[0mimarker\u001b[0m\u001b[0;34m]\u001b[0m \u001b[0;32mis\u001b[0m \u001b[0;32mNone\u001b[0m\u001b[0;34m)\u001b[0m\u001b[0;34m\u001b[0m\u001b[0;34m\u001b[0m\u001b[0m\n\u001b[0m\u001b[1;32m    255\u001b[0m             \u001b[0;32mif\u001b[0m \u001b[0mis_content_empty\u001b[0m\u001b[0;34m:\u001b[0m\u001b[0;34m\u001b[0m\u001b[0;34m\u001b[0m\u001b[0m\n\u001b[1;32m    256\u001b[0m                 \u001b[0mdisplay_info_box\u001b[0m\u001b[0;34m[\u001b[0m\u001b[0mimarker\u001b[0m\u001b[0;34m]\u001b[0m \u001b[0;34m=\u001b[0m \u001b[0;32mFalse\u001b[0m\u001b[0;34m\u001b[0m\u001b[0;34m\u001b[0m\u001b[0m\n",
      "\u001b[0;31mIndexError\u001b[0m: list index out of range"
     ]
    }
   ],
   "source": [
    "# Add marker layer ontop of heat map\n",
    "markers = gmaps.marker_layer(coordinates,info_box_content=names)\n",
    "fig.add_layer(markers)\n",
    "fig\n",
    "# Display figure\n"
   ]
  },
  {
   "cell_type": "code",
   "execution_count": null,
   "metadata": {},
   "outputs": [],
   "source": []
  }
 ],
 "metadata": {
  "kernelspec": {
   "display_name": "Python 3",
   "language": "python",
   "name": "python3"
  },
  "language_info": {
   "codemirror_mode": {
    "name": "ipython",
    "version": 3
   },
   "file_extension": ".py",
   "mimetype": "text/x-python",
   "name": "python",
   "nbconvert_exporter": "python",
   "pygments_lexer": "ipython3",
   "version": "3.7.7"
  },
  "latex_envs": {
   "LaTeX_envs_menu_present": true,
   "autoclose": false,
   "autocomplete": true,
   "bibliofile": "biblio.bib",
   "cite_by": "apalike",
   "current_citInitial": 1,
   "eqLabelWithNumbers": true,
   "eqNumInitial": 1,
   "hotkeys": {
    "equation": "Ctrl-E",
    "itemize": "Ctrl-I"
   },
   "labels_anchors": false,
   "latex_user_defs": false,
   "report_style_numbering": false,
   "user_envs_cfg": false
  }
 },
 "nbformat": 4,
 "nbformat_minor": 4
}
